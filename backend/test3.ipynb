{
 "cells": [
  {
   "cell_type": "code",
   "execution_count": 2,
   "metadata": {
    "vscode": {
     "languageId": "python"
    }
   },
   "outputs": [],
   "source": [
    "import subprocess\n",
    "from utils import get_random_port,save_ports\n",
    "\n",
    "\n",
    "def create_instance():\n",
    "    # return id of the newly created container and the password of the novnc\n",
    "    port=get_random_port()\n",
    "    try:\n",
    "        P = subprocess.Popen(f\"docker run -itd -p {port}:6080 chenjr0719/ubuntu-unity-novnc\", shell=True, stdout=subprocess.PIPE, stderr=subprocess.PIPE)\n",
    "        container_id, stderr = P.communicate()\n",
    "        if P.returncode ==0:\n",
    "            print(\"Container is running succefully\")\n",
    "            container_id=container_id.decode()[:-1]\n",
    "            P = subprocess.Popen(f\"sudo docker exec {container_id} cat /home/ubuntu/password.txt\", shell=True, stdout=subprocess.PIPE, stderr=subprocess.PIPE)\n",
    "            password_vnc, stderr = P.communicate()\n",
    "            if P.returncode == 0:\n",
    "                print(\"Password retreived \")\n",
    "                used_port.append(port)\n",
    "                save_ports(used_port)\n",
    "                return container_id,password_vnc\n",
    "            else :\n",
    "                print(\"Password not retreiving going to shutdown the container\")\n",
    "                P = subprocess.Popen(f\"docker stop {container_id}\", shell=True, stdout=subprocess.PIPE, stderr=subprocess.PIPE)\n",
    "                stoped_container_id, stderr = P.communicate()\n",
    "                if stoped_container_id.decode()[:-1] in container_id:\n",
    "                    return 0,0\n",
    "    except:\n",
    "        return 0,0\n",
    "    \n",
    "if __name__==\"__main__\":\n",
    "    print(create_instance())\n",
    "    "
   ]
  },
  {
   "cell_type": "code",
   "execution_count": null,
   "metadata": {
    "vscode": {
     "languageId": "python"
    }
   },
   "outputs": [],
   "source": [
    "from pwn import *\n",
    "io=remote(\"0.cloud.chals.io\",int(1399))\n",
    "io.recvuntil(b\">\")\n"
   ]
  },
  {
   "cell_type": "code",
   "execution_count": 18,
   "metadata": {
    "vscode": {
     "languageId": "python"
    }
   },
   "outputs": [
    {
     "data": {
      "text/plain": [
       "b'\\x02j\\xb5x\\xe0#P\\xa3\\xd3\\xd8:\\x9d\\x94j\\x8fDx\\xf4b{\\x86\\xfb\\xf6\\x94Lg\\xc8\\x7f\\xe6\\xf8\\xa1\\x98RIOCQq\\xdcN\\x9d\\xd5\\x81\\x9b\\xa6\\xde\\xe2\\x91\\xb3\\xcf\\xcc\\xa9\\xe2\\xf8$Q\\x1f\\xa9\\x11\\x1f\\xecO#s,\\xdd\\xcc\\xa1\\xa2\\x04D~~\\x17\\xe5s\\x00spartanCTF{n3v3r_r3us3_pr1m3_n4mb3rs_plz_f023e56a}'"
      ]
     },
     "execution_count": 18,
     "metadata": {},
     "output_type": "execute_result"
    }
   ],
   "source": [
    "a=0xb134f29e0b824b44f5e05c3c8f8ab5b3c9edc689f5238583540bd6e7a4dab6551bdf6d94778149335d549ea17c06cdcefbaa2293bb34f3293c13773453d0fe4e1156607b06bf5fd954e880e8ceee50b27e4e226c7c3baa878ed2b8197de2c94aa4613263e848bd217cc524270903d5d3fdd02c3a6d8eab18a8f68216412fa827\n",
    "b=0xb593c98414b5361645206616468cb7f7afd1aa98c89998b289f18ff424357fb1d7736d184904a79d3a56d103bfc4ea893004aeef5d3182f3f328e3511855e5b02612a440c2b42bbc02cec9a3721804816370e4ab8012c9d7040c2499d5ef441e181b17fa9670762c6ae5b58f8e1b92dbf3e4d4f883304f0e5818fb9d94dc602b\n",
    "p=gcd(a,b)\n",
    "q=a//p\n",
    "from base64 import b64decode\n",
    "m=b64decode(b\"p8/LrgtDa7x067UVCevEZ92jSY0WBKC8TobgLERxBs0SlRRtnqwio/ZgEp4wCU1oze1B/9ZUp3p3aOLu8FWQ892Yza0WfPUPFR1wDu1wdr2c76qOGhoBt+ZUDh1Kcmq4UEc1SfkPu/RJ7GAaIJJUC6mnXypOrqsgTN0qOxvunJ4=\")\n",
    "e=0x10001\n",
    "from Crypto.Util.number import long_to_bytes,bytes_to_long,getPrime\n",
    "d=pow(e,-1,(p-1)*(q-1))\n",
    "long_to_bytes(int(pow(bytes_to_long(m),int(d),a)))"
   ]
  },
  {
   "cell_type": "code",
   "execution_count": 19,
   "metadata": {
    "vscode": {
     "languageId": "python"
    }
   },
   "outputs": [
    {
     "name": "stdout",
     "output_type": "stream",
     "text": [
      "Monday, April 17, 2000\n",
      "Wednesday, March 20, 2002\n",
      "Tuesday, November 08, 2011\n",
      "Thursday, January 15, 2004\n",
      "Thursday, November 18, 2021\n",
      "Monday, November 16, 2015\n",
      "Wednesday, September 09, 1998\n",
      "Monday, July 06, 2009\n",
      "Wednesday, August 28, 2013\n"
     ]
    }
   ],
   "source": [
    "from datetime import datetime\n",
    "\n",
    "# Input dates\n",
    "dates = [\n",
    "    \"20000417\",\n",
    "    \"20020320\",\n",
    "    \"20111108\",\n",
    "    \"20040115\",\n",
    "    \"20211118\",\n",
    "    \"20151116\",\n",
    "    \"19980909\",\n",
    "    \"20090706\",\n",
    "    \"20130828\"\n",
    "]\n",
    "\n",
    "# Transform dates to day format (e.g., \"Monday, April 17, 2000\")\n",
    "formatted_dates = [datetime.strptime(date, \"%Y%m%d\").strftime(\"%A, %B %d, %Y\") for date in dates]\n",
    "\n",
    "# Output formatted dates\n",
    "for formatted_date in formatted_dates:\n",
    "    print(formatted_date)"
   ]
  },
  {
   "cell_type": "code",
   "execution_count": 20,
   "metadata": {
    "vscode": {
     "languageId": "python"
    }
   },
   "outputs": [
    {
     "ename": "SyntaxError",
     "evalue": "unterminated string literal (detected at line 1) (1124864292.py, line 1)",
     "output_type": "error",
     "traceback": [
      "\u001b[0;36m  File \u001b[0;32m\"/tmp/ipykernel_352181/1124864292.py\"\u001b[0;36m, line \u001b[0;32m1\u001b[0m\n\u001b[0;31m    If you want to represent the dates as the number of days elapsed since a certain reference date, you can subtract the reference date from each date to obtain the number of days. Here's how you can do it in Python:\u001b[0m\n\u001b[0m                                                                                                                                                                                          ^\u001b[0m\n\u001b[0;31mSyntaxError\u001b[0m\u001b[0;31m:\u001b[0m unterminated string literal (detected at line 1)\n"
     ]
    }
   ],
   "source": [
    "\n",
    "If you want to represent the dates as the number of days elapsed since a certain reference date, you can subtract the reference date from each date to obtain the number of days. Here's how you can do it in Python:\n",
    "\n",
    "python\n",
    "Copy code\n",
    "from datetime import datetime\n",
    "\n",
    "# Define a reference date (e.g., January 1, 1970)\n",
    "reference_date = datetime(1970, 1, 1)\n",
    "\n",
    "# Input dates\n",
    "dates = [\n",
    "    \"20000417\",\n",
    "    \"20020320\",\n",
    "    \"20111108\",\n",
    "    \"20040115\",\n",
    "    \"20211118\",\n",
    "    \"20151116\",\n",
    "    \"19980909\",\n",
    "    \"20090706\",\n",
    "    \"20130828\"\n",
    "]\n",
    "\n",
    "# Convert input dates to datetime objects\n",
    "formatted_dates = [datetime.strptime(date, \"%Y%m%d\") for date in dates]\n",
    "\n",
    "# Calculate the number of days since the reference date for each date\n",
    "days_since_reference = [(date - reference_date).days for date in formatted_dates]\n",
    "\n",
    "# Output the number of days for each date\n",
    "for days in days_since_reference:\n",
    "    print(days)"
   ]
  },
  {
   "cell_type": "code",
   "execution_count": null,
   "metadata": {
    "vscode": {
     "languageId": "python"
    }
   },
   "outputs": [],
   "source": [
    "import sys\n",
    "import subprocess\n",
    "from utils import read_ports_id,save_ports_id\n",
    "args = sys.argv\n",
    "def stop_container():\n",
    "    used_ports=read_ports_id()\n",
    "    if len(args)!=2:\n",
    "        print(\"please send a valid id\")\n",
    "    P = subprocess.Popen(f\"docker stop {args[1]}\", shell=True, stdout=subprocess.PIPE, stderr=subprocess.PIPE)\n",
    "    deleted_container, stderr = P.communicate()\n",
    "    if P.returncode==0:Magic\n",
    "        used_ports.pop(args[1])\n",
    "        save_ports_id(used_ports)\n",
    "        print(\"stopped container succefully\")\n",
    "    else:\n",
    "        print(f\"container with id {args[1]} had an error while stopping it !\")\n",
    "\n",
    "if __name__==\"__main__\":\n",
    "    print(stop_container())\n",
    "          "
   ]
  },
  {
   "cell_type": "code",
   "execution_count": 10,
   "metadata": {
    "vscode": {
     "languageId": "python"
    }
   },
   "outputs": [
    {
     "data": {
      "text/plain": [
       "True"
      ]
     },
     "execution_count": 10,
     "metadata": {},
     "output_type": "execute_result"
    }
   ],
   "source": [
    "l={5:666}\n",
    "666 in l.values()"
   ]
  }
 ],
 "metadata": {
  "kernelspec": {
   "display_name": "SageMath 9.5",
   "language": "sage",
   "name": "sagemath"
  },
  "language_info": {
   "codemirror_mode": {
    "name": "ipython",
    "version": 3
   },
   "file_extension": ".py",
   "mimetype": "text/x-python",
   "name": "sage",
   "nbconvert_exporter": "python",
   "pygments_lexer": "ipython3",
   "version": "3.10.12"
  }
 },
 "nbformat": 4,
 "nbformat_minor": 2
}

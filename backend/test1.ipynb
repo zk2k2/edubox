{
 "cells": [
  {
   "cell_type": "code",
   "execution_count": 11,
   "metadata": {},
   "outputs": [
    {
     "name": "stdout",
     "output_type": "stream",
     "text": [
      "0 {'j', 'b', 'l', 'o', 'w', 'x', 'i', 't', 'r', 'v', 'a', 'z'} False\n",
      "1 {'b', 'u', 'k', 'c', 'w', 'x', 'p', 'y', 's', 'a', 'j', 'm'} False\n",
      "2 {'b', 'l', 'k', 'c', 'n', 'x', 't', 'y', 'd', 'v', 'z', 'q'} False\n",
      "3 {'l', 'u', 'e', 'm', 'o', 'c', 'w', 'r', 'y', 'd', 'a', 'z'} False\n",
      "4 {'b', 'e', 'm', 'n', 's', 'p', 'x', 'd', 'v', 'a', 'f', 'z'} False\n",
      "5 {'g', 'b', 'e', 'o', 'c', 'n', 'w', 't', 'y', 'a', 'f', 'q'} False\n",
      "6 {'g', 'b', 'u', 'o', 'c', 'r', 'x', 'p', 'd', 'h', 'f', 'z'} False\n",
      "7 {'g', 'e', 'c', 's', 'p', 'y', 'i', 'd', 'h', 'v', 'a', 'q'} False\n",
      "8 {'b', 'e', 'w', 'r', 'i', 't', 'd', 'h', 'j', 'z', 'f', 'q'} False\n",
      "9 {'g', 'u', 'e', 'k', 'c', 'x', 'r', 'i', 's', 'j', 'a', 'f'} False\n",
      "10 {'g', 'j', 'b', 'l', 'k', 's', 't', 'y', 'd', 'h', 'v', 'f'} False\n",
      "11 {'g', 'l', 'e', 'u', 'k', 'c', 'w', 't', 'i', 'h', 'm', 'z'} False\n",
      "12 {'u', 'l', 'm', 'n', 'x', 'i', 'd', 'h', 'j', 'a', 'f', 'v'} False\n",
      "13 {'g', 'j', 'b', 'e', 'k', 'o', 'n', 'w', 'i', 'y', 'v', 'm'} False\n",
      "14 {'l', 'k', 'o', 'c', 'w', 'n', 'p', 'x', 'h', 'j', 'f', 'z'} False\n",
      "15 {'g', 'l', 'm', 'k', 'o', 'x', 'p', 'i', 'y', 'd', 'a', 'q'} False\n",
      "16 {'b', 'l', 'e', 'n', 'r', 'p', 'y', 'h', 'j', 'z', 'm', 'q'} False\n",
      "17 {'k', 'o', 'c', 'n', 'r', 'i', 's', 'a', 'q', 'm', 'f', 'z'} False\n",
      "18 {'g', 'b', 'l', 'o', 'n', 's', 'p', 'r', 't', 'd', 'j', 'a'} False\n",
      "19 {'b', 'u', 'e', 'k', 'o', 'c', 's', 'p', 't', 'h', 'm', 'q'} False\n",
      "20 {'u', 'l', 'c', 'n', 'r', 'i', 't', 'p', 'd', 'v', 'f', 'q'} False\n",
      "21 {'g', 'j', 'u', 'e', 'o', 'w', 'r', 's', 'd', 'v', 'm', 'q'} False\n",
      "22 {'e', 'k', 'w', 's', 'p', 't', 'n', 'x', 'h', 'v', 'r', 'f'} False\n",
      "23 {'g', 'l', 'u', 'o', 'w', 'x', 't', 'i', 'y', 's', 'f', 'q'} False\n",
      "24 {'g', 'u', 'r', 'p', 'y', 'x', 't', 'h', 'j', 'm', 'v', 'z'} False\n",
      "25 {'q', 'u', 'k', 'n', 's', 'w', 'y', 'i', 'h', 'v', 'a', 'z'} False\n",
      "G:94og-A936oas{82dlpFA14-FaT60}j-rC8!o!tnADbaR\n"
     ]
    }
   ],
   "source": [
    "import string\n",
    "cs = string.ascii_lowercase\n",
    "\n",
    "enc = 'O:94wo-I936wia{82ltxNI14-NiB60}r-zK8!w!bvILjiZ'\n",
    "prefix = set('spartanCTF{')\n",
    "for offset in range(len(cs)):\n",
    "    res = set()\n",
    "    for c in enc:\n",
    "        if c in cs:\n",
    "            res.add(cs[(cs.index(c)+offset) % len(cs)])\n",
    "    print(offset, res, res & prefix == prefix)\n",
    "\n",
    "offset = 18\n",
    "pt = ''\n",
    "\n",
    "cc = [string.ascii_uppercase, string.ascii_lowercase]\n",
    "\n",
    "for c in enc:\n",
    "    if c in string.ascii_lowercase:\n",
    "        pt += string.ascii_lowercase[(string.ascii_lowercase.index(c) + offset) % len(string.ascii_lowercase)]\n",
    "    elif c in string.ascii_uppercase:\n",
    "        pt += string.ascii_uppercase[(string.ascii_uppercase.index(c) + offset) % len(string.ascii_uppercase)]\n",
    "    else:\n",
    "        pt += c\n",
    "\n",
    "print(pt)\n",
    "\n",
    "# https://www.geeksforgeeks.org/rail-fence-cipher-encryption-decryption/\n",
    "def decryptRailFence(cipher, key):\n",
    "    rail = [['\\n' for i in range(len(cipher))]\n",
    "                for j in range(key)]\n",
    "    \n",
    "    dir_down = None\n",
    "    row, col = 0, 0\n",
    "    for i in range(len(cipher)):\n",
    "        if row == 0:\n",
    "            dir_down = True\n",
    "        if row == key - 1:\n",
    "            dir_down = False\n",
    "\n",
    "        rail[row][col] = '*'\n",
    "        col += 1\n",
    "         \n",
    "        if dir_down:\n",
    "            row += 1\n",
    "        else:\n",
    "            row -= 1\n",
    "             \n",
    "    index = 0\n",
    "    for i in range(key):\n",
    "        for j in range(len(cipher)):\n",
    "            if ((rail[i][j] == '*') and\n",
    "            (index < len(cipher))):\n",
    "                rail[i][j] = cipher[index]\n",
    "                index += 1\n",
    "         \n",
    "    result = []\n",
    "    row, col = 0, 0\n",
    "    for i in range(len(cipher)):\n",
    "        if row == 0:\n",
    "            dir_down = True\n",
    "        if row == key-1:\n",
    "            dir_down = False\n",
    "             \n",
    "        if (rail[row][col] != '*'):\n",
    "            result.append(rail[row][col])\n",
    "            col += 1\n",
    "             \n",
    "        if dir_down:\n",
    "            row += 1\n",
    "        else:\n",
    "            row -= 1\n",
    "    return(\"\".join(result))\n",
    "\n",
    "from pwn import ror\n",
    "\n",
    "offset = 0\n",
    "rail = 8\n",
    "flagss=[]\n",
    "for i in range(0,256):\n",
    "    for j in range(0,256):\n",
    "        try:\n",
    "\n",
    "            flagss.append(decryptRailFence(ror(pt, i), j))\n",
    "        except:\n",
    "            pass\n",
    "for i in flagss:\n",
    "    if \"spartan\" in i.lower():\n",
    "        print(i)"
   ]
  },
  {
   "cell_type": "code",
   "execution_count": 31,
   "metadata": {},
   "outputs": [
    {
     "data": {
      "text/plain": [
       "'oA93216C04d64D!bool-}8jFpagatR-sFa-!rTA{AGn:98'"
      ]
     },
     "execution_count": 31,
     "metadata": {},
     "output_type": "execute_result"
    }
   ],
   "source": [
    "decryptRailFence(ror(pt, 9), 8)"
   ]
  },
  {
   "cell_type": "code",
   "execution_count": 13,
   "metadata": {},
   "outputs": [],
   "source": [
    "for i in flagss:\n",
    "    if \"good\" in i.lower():\n",
    "        print(i)"
   ]
  }
 ],
 "metadata": {
  "kernelspec": {
   "display_name": "Python 3",
   "language": "python",
   "name": "python3"
  },
  "language_info": {
   "codemirror_mode": {
    "name": "ipython",
    "version": 3
   },
   "file_extension": ".py",
   "mimetype": "text/x-python",
   "name": "python",
   "nbconvert_exporter": "python",
   "pygments_lexer": "ipython3",
   "version": "3.10.12"
  }
 },
 "nbformat": 4,
 "nbformat_minor": 2
}
